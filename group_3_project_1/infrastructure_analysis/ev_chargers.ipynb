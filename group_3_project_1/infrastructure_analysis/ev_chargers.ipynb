{
 "cells": [
  {
   "cell_type": "code",
   "execution_count": 1,
   "metadata": {},
   "outputs": [],
   "source": [
    "%matplotlib inline"
   ]
  },
  {
   "cell_type": "code",
   "execution_count": 57,
   "metadata": {},
   "outputs": [],
   "source": [
    "import requests\n",
    "import json\n",
    "import pandas as pd\n",
    "import csv\n",
    "import matplotlib.pyplot as plt\n",
    "import scipy.stats as st\n",
    "from scipy.stats import linregress\n",
    "import numpy as np\n",
    "\n",
    "from config import nrel_key"
   ]
  },
  {
   "cell_type": "code",
   "execution_count": 52,
   "metadata": {},
   "outputs": [
    {
     "name": "stdout",
     "output_type": "stream",
     "text": [
      "https://developer.nrel.gov/api/alt-fuel-stations/v1.json?{'api_key': 'o2awjV3tGxSyNHaXmOMCcfspdnQeq7yDU17q9BQt', 'fuel_type': 'ELEC', 'access': 'public'}\n"
     ]
    }
   ],
   "source": [
    "fuel = \"ELEC\"\n",
    "file_format = \"csv\"\n",
    "access = \"public\"\n",
    "#country = \"US\"\n",
    "\n",
    "params = {\n",
    "    \"api_key\": nrel_key,\n",
    "    \"fuel_type\": fuel,\n",
    "    \"access\": access\n",
    "    }\n",
    "\n",
    "base_url = f\"https://developer.nrel.gov/api/alt-fuel-stations/v1.json?{params}\"\n",
    "\n",
    "print(base_url)\n",
    "# response = requests.get(base_url, params=params).json()\n",
    "# #print(json.dumps(response,indent=4, sort_keys=True))\n",
    "\n",
    "# df = pd.DataFrame(response[\"fuel_stations\"])\n",
    "# df"
   ]
  },
  {
   "cell_type": "code",
   "execution_count": 7,
   "metadata": {},
   "outputs": [
    {
     "data": {
      "text/html": [
       "<div>\n",
       "<style scoped>\n",
       "    .dataframe tbody tr th:only-of-type {\n",
       "        vertical-align: middle;\n",
       "    }\n",
       "\n",
       "    .dataframe tbody tr th {\n",
       "        vertical-align: top;\n",
       "    }\n",
       "\n",
       "    .dataframe thead th {\n",
       "        text-align: right;\n",
       "    }\n",
       "</style>\n",
       "<table border=\"1\" class=\"dataframe\">\n",
       "  <thead>\n",
       "    <tr style=\"text-align: right;\">\n",
       "      <th></th>\n",
       "      <th>access_code</th>\n",
       "      <th>state</th>\n",
       "      <th>zip</th>\n",
       "      <th>id</th>\n",
       "    </tr>\n",
       "  </thead>\n",
       "  <tbody>\n",
       "    <tr>\n",
       "      <th>0</th>\n",
       "      <td>public</td>\n",
       "      <td>CA</td>\n",
       "      <td>90015</td>\n",
       "      <td>1523</td>\n",
       "    </tr>\n",
       "    <tr>\n",
       "      <th>1</th>\n",
       "      <td>public</td>\n",
       "      <td>CA</td>\n",
       "      <td>91731</td>\n",
       "      <td>1583</td>\n",
       "    </tr>\n",
       "    <tr>\n",
       "      <th>2</th>\n",
       "      <td>public</td>\n",
       "      <td>CA</td>\n",
       "      <td>92037</td>\n",
       "      <td>6355</td>\n",
       "    </tr>\n",
       "    <tr>\n",
       "      <th>3</th>\n",
       "      <td>public</td>\n",
       "      <td>CA</td>\n",
       "      <td>91343</td>\n",
       "      <td>6405</td>\n",
       "    </tr>\n",
       "    <tr>\n",
       "      <th>4</th>\n",
       "      <td>public</td>\n",
       "      <td>CA</td>\n",
       "      <td>92503</td>\n",
       "      <td>6425</td>\n",
       "    </tr>\n",
       "  </tbody>\n",
       "</table>\n",
       "</div>"
      ],
      "text/plain": [
       "  access_code state    zip    id\n",
       "0      public    CA  90015  1523\n",
       "1      public    CA  91731  1583\n",
       "2      public    CA  92037  6355\n",
       "3      public    CA  91343  6405\n",
       "4      public    CA  92503  6425"
      ]
     },
     "execution_count": 7,
     "metadata": {},
     "output_type": "execute_result"
    }
   ],
   "source": [
    "df_cleaned = df[[\"access_code\",\"state\",'zip','id']]\n",
    "\n",
    "df_cleaned.head()"
   ]
  },
  {
   "cell_type": "code",
   "execution_count": 53,
   "metadata": {},
   "outputs": [
    {
     "name": "stdout",
     "output_type": "stream",
     "text": [
      "state\n",
      "AK       60\n",
      "AL      271\n",
      "AR      227\n",
      "AZ      985\n",
      "CA    15096\n",
      "CO     1826\n",
      "CT      564\n",
      "DC      287\n",
      "DE      153\n",
      "FL     2945\n",
      "GA     1688\n",
      "HI      368\n",
      "IA      311\n",
      "ID      119\n",
      "IL     1288\n",
      "IN      400\n",
      "KA        1\n",
      "KS      477\n",
      "KY      240\n",
      "LA      193\n",
      "MA     2519\n",
      "MD     1383\n",
      "ME      415\n",
      "MI     1159\n",
      "MN      602\n",
      "MO     1081\n",
      "MS      101\n",
      "MT      100\n",
      "NC     1162\n",
      "ND       82\n",
      "NE      220\n",
      "NH      183\n",
      "NJ      961\n",
      "NM      244\n",
      "NV      527\n",
      "NY     3561\n",
      "OH     1257\n",
      "OK      323\n",
      "ON        8\n",
      "OR     1028\n",
      "PA     1352\n",
      "PR       33\n",
      "QC        2\n",
      "RI      313\n",
      "SC      434\n",
      "SD       75\n",
      "TN      667\n",
      "TX     2611\n",
      "UT      799\n",
      "VA     1235\n",
      "VT      357\n",
      "WA     1795\n",
      "WI      482\n",
      "WV      124\n",
      "WY       85\n",
      "Name: id, dtype: int64\n"
     ]
    }
   ],
   "source": [
    "state_df = df_cleaned.groupby(['state']).count()['id']\n",
    "\n",
    "print(state_df)"
   ]
  },
  {
   "cell_type": "code",
   "execution_count": 11,
   "metadata": {},
   "outputs": [
    {
     "data": {
      "text/html": [
       "<div>\n",
       "<style scoped>\n",
       "    .dataframe tbody tr th:only-of-type {\n",
       "        vertical-align: middle;\n",
       "    }\n",
       "\n",
       "    .dataframe tbody tr th {\n",
       "        vertical-align: top;\n",
       "    }\n",
       "\n",
       "    .dataframe thead th {\n",
       "        text-align: right;\n",
       "    }\n",
       "</style>\n",
       "<table border=\"1\" class=\"dataframe\">\n",
       "  <thead>\n",
       "    <tr style=\"text-align: right;\">\n",
       "      <th></th>\n",
       "      <th>State Name</th>\n",
       "      <th>state</th>\n",
       "      <th>Registration Count</th>\n",
       "    </tr>\n",
       "  </thead>\n",
       "  <tbody>\n",
       "    <tr>\n",
       "      <th>0</th>\n",
       "      <td>Alabama</td>\n",
       "      <td>AL</td>\n",
       "      <td>4750.0</td>\n",
       "    </tr>\n",
       "    <tr>\n",
       "      <th>1</th>\n",
       "      <td>Alaska</td>\n",
       "      <td>AK</td>\n",
       "      <td>1290.0</td>\n",
       "    </tr>\n",
       "    <tr>\n",
       "      <th>2</th>\n",
       "      <td>Arizona</td>\n",
       "      <td>AZ</td>\n",
       "      <td>40740.0</td>\n",
       "    </tr>\n",
       "    <tr>\n",
       "      <th>3</th>\n",
       "      <td>Arkansas</td>\n",
       "      <td>AR</td>\n",
       "      <td>2390.0</td>\n",
       "    </tr>\n",
       "    <tr>\n",
       "      <th>4</th>\n",
       "      <td>California</td>\n",
       "      <td>CA</td>\n",
       "      <td>563070.0</td>\n",
       "    </tr>\n",
       "  </tbody>\n",
       "</table>\n",
       "</div>"
      ],
      "text/plain": [
       "   State Name state  Registration Count\n",
       "0     Alabama    AL              4750.0\n",
       "1      Alaska    AK              1290.0\n",
       "2     Arizona    AZ             40740.0\n",
       "3    Arkansas    AR              2390.0\n",
       "4  California    CA            563070.0"
      ]
     },
     "execution_count": 11,
     "metadata": {},
     "output_type": "execute_result"
    }
   ],
   "source": [
    "ev_registration_path = \"resources/ev_registration_by_state.csv\"\n",
    "\n",
    "registration_data = pd.read_csv(ev_registration_path)\n",
    "\n",
    "registration_data.head()"
   ]
  },
  {
   "cell_type": "code",
   "execution_count": 22,
   "metadata": {},
   "outputs": [
    {
     "name": "stdout",
     "output_type": "stream",
     "text": [
      "<class 'pandas.core.frame.DataFrame'>\n",
      "Int64Index: 51 entries, 0 to 54\n",
      "Data columns (total 4 columns):\n",
      " #   Column                 Non-Null Count  Dtype  \n",
      "---  ------                 --------------  -----  \n",
      " 0   state                  51 non-null     object \n",
      " 1   Number of EV Chargers  51 non-null     int64  \n",
      " 2   State Name             51 non-null     object \n",
      " 3   Registration Count     51 non-null     float64\n",
      "dtypes: float64(1), int64(1), object(2)\n",
      "memory usage: 2.0+ KB\n"
     ]
    }
   ],
   "source": [
    "df_complete = pd.merge(state_df, registration_data, how = \"left\", on=[\"state\"])\n",
    "\n",
    "df_complete.rename(columns = {\"id\":\"Number of EV Chargers\"},inplace=True)\n",
    "\n",
    "df_complete[\"Number of EV Chargers\"].astype(float)\n",
    "\n",
    "df_complete.dropna(inplace=True)\n",
    "\n",
    "df_complete.info()"
   ]
  },
  {
   "cell_type": "code",
   "execution_count": 23,
   "metadata": {},
   "outputs": [
    {
     "name": "stdout",
     "output_type": "stream",
     "text": [
      "<class 'pandas.core.frame.DataFrame'>\n",
      "Int64Index: 51 entries, 0 to 54\n",
      "Data columns (total 4 columns):\n",
      " #   Column                 Non-Null Count  Dtype  \n",
      "---  ------                 --------------  -----  \n",
      " 0   state                  51 non-null     object \n",
      " 1   Number of EV Chargers  51 non-null     int64  \n",
      " 2   State Name             51 non-null     object \n",
      " 3   Registration Count     51 non-null     float64\n",
      "dtypes: float64(1), int64(1), object(2)\n",
      "memory usage: 2.0+ KB\n"
     ]
    }
   ],
   "source": [
    "df_complete['Registration Count'] = pd.to_numeric(df_complete['Registration Count'])\n",
    "\n",
    "df_complete.info()\n",
    "\n",
    "df_complete.to_csv(r'df_complete.csv')"
   ]
  },
  {
   "cell_type": "code",
   "execution_count": 54,
   "metadata": {},
   "outputs": [
    {
     "data": {
      "image/png": "[encoded data removed]",
      "text/plain": [
       "<Figure size 432x288 with 1 Axes>"
      ]
     },
     "metadata": {
      "needs_background": "light"
     },
     "output_type": "display_data"
    }
   ],
   "source": [
    "x_values = df_complete['Number of EV Chargers']\n",
    "y_values = df_complete['Registration Count']\n",
    "(slope, intercept, rvalue, pvalue, stderr) = linregress(x_values, y_values)\n",
    "regress_values = x_values * slope + intercept\n",
    "line_eq = \"y = \" + str(round(slope,2)) + \"x + \" + str(round(intercept,2))\n",
    "plt.scatter(x_values,y_values)\n",
    "plt.plot(x_values,regress_values,\"r-\")\n",
    "plt.xlabel('Number of Registered Electric Vehicles')\n",
    "plt.ylabel('Number of Public EV Chargers')\n",
    "plt.show()"
   ]
  },
  {
   "cell_type": "code",
   "execution_count": 55,
   "metadata": {},
   "outputs": [
    {
     "data": {
      "image/png": "[encoded data removed]",
      "text/plain": [
       "<Figure size 432x288 with 1 Axes>"
      ]
     },
     "metadata": {
      "needs_background": "light"
     },
     "output_type": "display_data"
    }
   ],
   "source": [
    "ca_removed = df_complete.loc[df_complete[\"state\"] != \"CA\"]\n",
    "\n",
    "ca_removed\n",
    "\n",
    "x_values = ca_removed['Number of EV Chargers']\n",
    "y_values = ca_removed['Registration Count']\n",
    "(slope, intercept, rvalue, pvalue, stderr) = linregress(x_values, y_values)\n",
    "regress_values = x_values * slope + intercept\n",
    "line_eq = \"y = \" + str(round(slope,2)) + \"x + \" + str(round(intercept,2))\n",
    "plt.scatter(x_values,y_values)\n",
    "plt.plot(x_values,regress_values,\"r-\")\n",
    "plt.annotate(line_eq,(1900,0.8),fontsize=15,color=\"red\",)\n",
    "plt.xlabel('Number of Registered Electric Vehicles')\n",
    "plt.ylabel('Number of Public EV Chargers')\n",
    "plt.show()\n",
    "\n"
   ]
  },
  {
   "cell_type": "code",
   "execution_count": 56,
   "metadata": {},
   "outputs": [
    {
     "ename": "NameError",
     "evalue": "name 'st' is not defined",
     "output_type": "error",
     "traceback": [
      "\u001b[1;31m---------------------------------------------------------------------------\u001b[0m",
      "\u001b[1;31mNameError\u001b[0m                                 Traceback (most recent call last)",
      "\u001b[1;32m~\\AppData\\Local\\Temp\\ipykernel_15548\\2229929225.py\u001b[0m in \u001b[0;36m<module>\u001b[1;34m\u001b[0m\n\u001b[1;32m----> 1\u001b[1;33m \u001b[0mcorrelation\u001b[0m \u001b[1;33m=\u001b[0m \u001b[0mst\u001b[0m\u001b[1;33m.\u001b[0m\u001b[0mpearsonr\u001b[0m\u001b[1;33m(\u001b[0m\u001b[0mx_values\u001b[0m\u001b[1;33m,\u001b[0m\u001b[0my_values\u001b[0m\u001b[1;33m)\u001b[0m\u001b[1;33m\u001b[0m\u001b[1;33m\u001b[0m\u001b[0m\n\u001b[0m\u001b[0;32m      2\u001b[0m \u001b[0mprint\u001b[0m\u001b[1;33m(\u001b[0m\u001b[1;34mf\"The correlation between both factors is {round(correlation[0],2)}\"\u001b[0m\u001b[1;33m)\u001b[0m\u001b[1;33m\u001b[0m\u001b[1;33m\u001b[0m\u001b[0m\n",
      "\u001b[1;31mNameError\u001b[0m: name 'st' is not defined"
     ]
    }
   ],
   "source": [
    "correlation = st.pearsonr(x_values,y_values)\n",
    "print(f\"The correlation between both factors is {round(correlation[0],2)}\")"
   ]
  },
  {
   "cell_type": "code",
   "execution_count": null,
   "metadata": {},
   "outputs": [],
   "source": []
  }
 ],
 "metadata": {
  "kernelspec": {
   "display_name": "PythonData",
   "language": "python",
   "name": "python3"
  },
  "language_info": {
   "codemirror_mode": {
    "name": "ipython",
    "version": 3
   },
   "file_extension": ".py",
   "mimetype": "text/x-python",
   "name": "python",
   "nbconvert_exporter": "python",
   "pygments_lexer": "ipython3",
   "version": "3.7.7"
  },
  "orig_nbformat": 4,
  "vscode": {
   "interpreter": {
    "hash": "ed624e979f463f68b2cf9d74dc6f7fce37aed34951cee674ee352dc9bf18b1be"
   }
  }
 },
 "nbformat": 4,
 "nbformat_minor": 2
}
