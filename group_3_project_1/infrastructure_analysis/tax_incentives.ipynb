{
 "cells": [
  {
   "cell_type": "code",
   "execution_count": 1,
   "metadata": {},
   "outputs": [],
   "source": [
    "%matplotlib inline"
   ]
  },
  {
   "cell_type": "code",
   "execution_count": 2,
   "metadata": {},
   "outputs": [],
   "source": [
    "import requests\n",
    "import json\n",
    "import pandas as pd\n",
    "import csv\n",
    "import matplotlib.pyplot as plt\n",
    "import scipy.stats as st\n",
    "from scipy.stats import linregress\n",
    "import numpy as np\n",
    "\n",
    "from config import nrel_key"
   ]
  },
  {
   "cell_type": "code",
   "execution_count": 3,
   "metadata": {},
   "outputs": [
    {
     "data": {
      "text/html": [
       "<div>\n",
       "<style scoped>\n",
       "    .dataframe tbody tr th:only-of-type {\n",
       "        vertical-align: middle;\n",
       "    }\n",
       "\n",
       "    .dataframe tbody tr th {\n",
       "        vertical-align: top;\n",
       "    }\n",
       "\n",
       "    .dataframe thead th {\n",
       "        text-align: right;\n",
       "    }\n",
       "</style>\n",
       "<table border=\"1\" class=\"dataframe\">\n",
       "  <thead>\n",
       "    <tr style=\"text-align: right;\">\n",
       "      <th></th>\n",
       "      <th>id</th>\n",
       "      <th>state</th>\n",
       "      <th>title</th>\n",
       "      <th>text</th>\n",
       "      <th>enacted_date</th>\n",
       "      <th>amended_date</th>\n",
       "      <th>plaintext</th>\n",
       "      <th>is_recent</th>\n",
       "      <th>seq_num</th>\n",
       "      <th>type</th>\n",
       "      <th>agency</th>\n",
       "      <th>significant_update_date</th>\n",
       "      <th>recent_update_or_new</th>\n",
       "      <th>utility_id</th>\n",
       "      <th>county_ids</th>\n",
       "      <th>technologies</th>\n",
       "      <th>categories</th>\n",
       "      <th>types</th>\n",
       "      <th>references</th>\n",
       "      <th>topics</th>\n",
       "    </tr>\n",
       "  </thead>\n",
       "  <tbody>\n",
       "    <tr>\n",
       "      <th>0</th>\n",
       "      <td>284</td>\n",
       "      <td>US</td>\n",
       "      <td>Congestion Mitigation and Air Quality (CMAQ) I...</td>\n",
       "      <td>&lt;p&gt;The CMAQ Program provides funding to state ...</td>\n",
       "      <td>2005-08-10T00:00:00Z</td>\n",
       "      <td>2021-11-15T00:00:00Z</td>\n",
       "      <td>The CMAQ Program provides funding to state dep...</td>\n",
       "      <td>False</td>\n",
       "      <td>54.0</td>\n",
       "      <td>Incentives</td>\n",
       "      <td>U.S. Department of Transportation</td>\n",
       "      <td>11/29/2021</td>\n",
       "      <td>update</td>\n",
       "      <td>NaN</td>\n",
       "      <td>[1, 2, 3, 4, 5, 6, 7, 8, 9, 10, 11, 12, 13, 14...</td>\n",
       "      <td>[BIOD, ETH, ELEC, HY, IR, NG, PHEV, LPG]</td>\n",
       "      <td>[{'code': 'STATION', 'title': 'Alternative Fue...</td>\n",
       "      <td>[{'id': 8, 'title': 'Incentives', 'code': 'INC'}]</td>\n",
       "      <td>[{'description': 'Public Law 117-58', 'url': '...</td>\n",
       "      <td>[]</td>\n",
       "    </tr>\n",
       "    <tr>\n",
       "      <th>1</th>\n",
       "      <td>288</td>\n",
       "      <td>US</td>\n",
       "      <td>Clean Cities Coalition Network</td>\n",
       "      <td>The mission of Clean Cities Coalition Network ...</td>\n",
       "      <td>None</td>\n",
       "      <td>None</td>\n",
       "      <td>The mission of Clean Cities Coalition Network ...</td>\n",
       "      <td>False</td>\n",
       "      <td>21.0</td>\n",
       "      <td>Programs</td>\n",
       "      <td>U.S. Department of Energy</td>\n",
       "      <td>None</td>\n",
       "      <td>update</td>\n",
       "      <td>NaN</td>\n",
       "      <td>[1, 2, 3, 4, 5, 6, 7, 8, 9, 10, 11, 12, 13, 14...</td>\n",
       "      <td>[AFTMKTCONV, BIOD, ETH, ELEC, EFFEC, HEV, HY, ...</td>\n",
       "      <td>[{'code': 'AFTMKTCONV', 'title': 'Aftermarket ...</td>\n",
       "      <td>[{'id': 9, 'title': 'Programs', 'code': 'PROG'}]</td>\n",
       "      <td>[]</td>\n",
       "      <td>[]</td>\n",
       "    </tr>\n",
       "    <tr>\n",
       "      <th>2</th>\n",
       "      <td>317</td>\n",
       "      <td>US</td>\n",
       "      <td>State Energy Program (SEP) Funding</td>\n",
       "      <td>The SEP provides grants to states to assist in...</td>\n",
       "      <td>None</td>\n",
       "      <td>2021-11-15T00:00:00Z</td>\n",
       "      <td>The SEP provides grants to states to assist in...</td>\n",
       "      <td>False</td>\n",
       "      <td>26.0</td>\n",
       "      <td>Incentives</td>\n",
       "      <td>U.S. Department of Energy</td>\n",
       "      <td>11/29/2021</td>\n",
       "      <td>update</td>\n",
       "      <td>NaN</td>\n",
       "      <td>[1, 2, 3, 4, 5, 6, 7, 8, 9, 10, 11, 12, 13, 14...</td>\n",
       "      <td>[BIOD, ETH, ELEC, EFFEC, HY, NG, PHEV, LPG]</td>\n",
       "      <td>[{'code': 'BIOD', 'title': 'Biodiesel', 'categ...</td>\n",
       "      <td>[{'id': 8, 'title': 'Incentives', 'code': 'INC'}]</td>\n",
       "      <td>[{'description': 'Public Law 117-58', 'url': '...</td>\n",
       "      <td>[]</td>\n",
       "    </tr>\n",
       "    <tr>\n",
       "      <th>3</th>\n",
       "      <td>323</td>\n",
       "      <td>US</td>\n",
       "      <td>Clean School Bus</td>\n",
       "      <td>&lt;p&gt;The U.S. Environmental Protection Agency’s ...</td>\n",
       "      <td>None</td>\n",
       "      <td>2021-11-15T00:00:00Z</td>\n",
       "      <td>The U.S. Environmental Protection Agency's (EP...</td>\n",
       "      <td>False</td>\n",
       "      <td>33.0</td>\n",
       "      <td>Incentives</td>\n",
       "      <td>U.S. Environmental Protection Agency</td>\n",
       "      <td>8/16/2022</td>\n",
       "      <td>update</td>\n",
       "      <td>NaN</td>\n",
       "      <td>[1, 2, 3, 4, 5, 6, 7, 8, 9, 10, 11, 12, 13, 14...</td>\n",
       "      <td>[AFTMKTCONV, ETH, ELEC, EFFEC, HY, IR, NG, PHE...</td>\n",
       "      <td>[{'code': 'AFTMKTCONV', 'title': 'Aftermarket ...</td>\n",
       "      <td>[{'id': 8, 'title': 'Incentives', 'code': 'INC'}]</td>\n",
       "      <td>[{'description': 'Public Law 117-58', 'url': '...</td>\n",
       "      <td>[]</td>\n",
       "    </tr>\n",
       "    <tr>\n",
       "      <th>4</th>\n",
       "      <td>324</td>\n",
       "      <td>US</td>\n",
       "      <td>Clean Construction and Agriculture</td>\n",
       "      <td>Clean Construction is a voluntary program that...</td>\n",
       "      <td>None</td>\n",
       "      <td>None</td>\n",
       "      <td>Clean Construction is a voluntary program that...</td>\n",
       "      <td>False</td>\n",
       "      <td>34.0</td>\n",
       "      <td>Programs</td>\n",
       "      <td>U.S. Environmental Protection Agency</td>\n",
       "      <td>None</td>\n",
       "      <td>update</td>\n",
       "      <td>NaN</td>\n",
       "      <td>[1, 2, 3, 4, 5, 6, 7, 8, 9, 10, 11, 12, 13, 14...</td>\n",
       "      <td>[BIOD, ELEC, HEV, HY, NG, PHEV, LPG]</td>\n",
       "      <td>[{'code': 'PURCH', 'title': 'Alternative Fuel ...</td>\n",
       "      <td>[{'id': 9, 'title': 'Programs', 'code': 'PROG'}]</td>\n",
       "      <td>[]</td>\n",
       "      <td>[]</td>\n",
       "    </tr>\n",
       "  </tbody>\n",
       "</table>\n",
       "</div>"
      ],
      "text/plain": [
       "    id state                                              title  \\\n",
       "0  284    US  Congestion Mitigation and Air Quality (CMAQ) I...   \n",
       "1  288    US                     Clean Cities Coalition Network   \n",
       "2  317    US                 State Energy Program (SEP) Funding   \n",
       "3  323    US                                   Clean School Bus   \n",
       "4  324    US                 Clean Construction and Agriculture   \n",
       "\n",
       "                                                text          enacted_date  \\\n",
       "0  <p>The CMAQ Program provides funding to state ...  2005-08-10T00:00:00Z   \n",
       "1  The mission of Clean Cities Coalition Network ...                  None   \n",
       "2  The SEP provides grants to states to assist in...                  None   \n",
       "3  <p>The U.S. Environmental Protection Agency’s ...                  None   \n",
       "4  Clean Construction is a voluntary program that...                  None   \n",
       "\n",
       "           amended_date                                          plaintext  \\\n",
       "0  2021-11-15T00:00:00Z  The CMAQ Program provides funding to state dep...   \n",
       "1                  None  The mission of Clean Cities Coalition Network ...   \n",
       "2  2021-11-15T00:00:00Z  The SEP provides grants to states to assist in...   \n",
       "3  2021-11-15T00:00:00Z  The U.S. Environmental Protection Agency's (EP...   \n",
       "4                  None  Clean Construction is a voluntary program that...   \n",
       "\n",
       "   is_recent  seq_num        type                                agency  \\\n",
       "0      False     54.0  Incentives     U.S. Department of Transportation   \n",
       "1      False     21.0    Programs             U.S. Department of Energy   \n",
       "2      False     26.0  Incentives             U.S. Department of Energy   \n",
       "3      False     33.0  Incentives  U.S. Environmental Protection Agency   \n",
       "4      False     34.0    Programs  U.S. Environmental Protection Agency   \n",
       "\n",
       "  significant_update_date recent_update_or_new  utility_id  \\\n",
       "0              11/29/2021               update         NaN   \n",
       "1                    None               update         NaN   \n",
       "2              11/29/2021               update         NaN   \n",
       "3               8/16/2022               update         NaN   \n",
       "4                    None               update         NaN   \n",
       "\n",
       "                                          county_ids  \\\n",
       "0  [1, 2, 3, 4, 5, 6, 7, 8, 9, 10, 11, 12, 13, 14...   \n",
       "1  [1, 2, 3, 4, 5, 6, 7, 8, 9, 10, 11, 12, 13, 14...   \n",
       "2  [1, 2, 3, 4, 5, 6, 7, 8, 9, 10, 11, 12, 13, 14...   \n",
       "3  [1, 2, 3, 4, 5, 6, 7, 8, 9, 10, 11, 12, 13, 14...   \n",
       "4  [1, 2, 3, 4, 5, 6, 7, 8, 9, 10, 11, 12, 13, 14...   \n",
       "\n",
       "                                        technologies  \\\n",
       "0           [BIOD, ETH, ELEC, HY, IR, NG, PHEV, LPG]   \n",
       "1  [AFTMKTCONV, BIOD, ETH, ELEC, EFFEC, HEV, HY, ...   \n",
       "2        [BIOD, ETH, ELEC, EFFEC, HY, NG, PHEV, LPG]   \n",
       "3  [AFTMKTCONV, ETH, ELEC, EFFEC, HY, IR, NG, PHE...   \n",
       "4               [BIOD, ELEC, HEV, HY, NG, PHEV, LPG]   \n",
       "\n",
       "                                          categories  \\\n",
       "0  [{'code': 'STATION', 'title': 'Alternative Fue...   \n",
       "1  [{'code': 'AFTMKTCONV', 'title': 'Aftermarket ...   \n",
       "2  [{'code': 'BIOD', 'title': 'Biodiesel', 'categ...   \n",
       "3  [{'code': 'AFTMKTCONV', 'title': 'Aftermarket ...   \n",
       "4  [{'code': 'PURCH', 'title': 'Alternative Fuel ...   \n",
       "\n",
       "                                               types  \\\n",
       "0  [{'id': 8, 'title': 'Incentives', 'code': 'INC'}]   \n",
       "1   [{'id': 9, 'title': 'Programs', 'code': 'PROG'}]   \n",
       "2  [{'id': 8, 'title': 'Incentives', 'code': 'INC'}]   \n",
       "3  [{'id': 8, 'title': 'Incentives', 'code': 'INC'}]   \n",
       "4   [{'id': 9, 'title': 'Programs', 'code': 'PROG'}]   \n",
       "\n",
       "                                          references topics  \n",
       "0  [{'description': 'Public Law 117-58', 'url': '...     []  \n",
       "1                                                 []     []  \n",
       "2  [{'description': 'Public Law 117-58', 'url': '...     []  \n",
       "3  [{'description': 'Public Law 117-58', 'url': '...     []  \n",
       "4                                                 []     []  "
      ]
     },
     "execution_count": 3,
     "metadata": {},
     "output_type": "execute_result"
    }
   ],
   "source": [
    "#NREL's Transportation Laws and Incentives API\n",
    "\n",
    "technology = \"ELEC\"\n",
    "incentive_type = \"TAX\"\n",
    "\n",
    "\n",
    "params = {\n",
    "    \"api_key\": nrel_key,\n",
    "    \"technology\": technology\n",
    "    }\n",
    "\n",
    "base_url = f\"https://developer.nrel.gov/api/transportation-incentives-laws/v1.json?\"\n",
    "\n",
    "#print(base_url)\n",
    "\n",
    "response = requests.get(base_url, params=params).json()\n",
    "\n",
    "df = pd.DataFrame(response[\"result\"])\n",
    "df.head()\n",
    "\n",
    "#print(json.dumps(response,indent=4, sort_keys=True))"
   ]
  },
  {
   "cell_type": "code",
   "execution_count": 39,
   "metadata": {},
   "outputs": [
    {
     "data": {
      "text/plain": [
       "state\n",
       "AK     1\n",
       "AL     3\n",
       "AR     3\n",
       "AZ     6\n",
       "CA    41\n",
       "Name: id, dtype: int64"
      ]
     },
     "execution_count": 39,
     "metadata": {},
     "output_type": "execute_result"
    }
   ],
   "source": [
    "state_incentives = df.loc[df[\"type\"] == \"State Incentives\"]\n",
    "\n",
    "states_sorted = state_incentives.groupby([\"state\"]).count()['id']\n",
    "\n",
    "states_sorted.head()"
   ]
  },
  {
   "cell_type": "code",
   "execution_count": 5,
   "metadata": {},
   "outputs": [
    {
     "name": "stdout",
     "output_type": "stream",
     "text": [
      "<class 'pandas.core.frame.DataFrame'>\n",
      "RangeIndex: 51 entries, 0 to 50\n",
      "Data columns (total 3 columns):\n",
      " #   Column             Non-Null Count  Dtype \n",
      "---  ------             --------------  ----- \n",
      " 0   Geographic Area    51 non-null     object\n",
      " 1   state              51 non-null     object\n",
      " 2   Population (est.)  51 non-null     int64 \n",
      "dtypes: int64(1), object(2)\n",
      "memory usage: 1.3+ KB\n"
     ]
    }
   ],
   "source": [
    "#Importing US Census' 2022 population estimate (for 7/1/2022) (Annual Estimates of the Resident Population for the United States, Regions, States, District of Columbia, and Puerto Rico: April 1, 2020 to July 1, 2022 (NST-EST2022-POP))\n",
    "\n",
    "ev_registration_path = \"resources/ev_registration_by_state.csv\"\n",
    "\n",
    "registration_data = pd.read_csv(ev_registration_path)\n",
    "\n",
    "state_pop_path = \"resources/2022_est_state_pop.csv\"\n",
    "\n",
    "population_data = pd.read_csv(state_pop_path)\n",
    "\n",
    "population_data.info()\n"
   ]
  },
  {
   "cell_type": "code",
   "execution_count": 35,
   "metadata": {},
   "outputs": [
    {
     "data": {
      "text/html": [
       "<div>\n",
       "<style scoped>\n",
       "    .dataframe tbody tr th:only-of-type {\n",
       "        vertical-align: middle;\n",
       "    }\n",
       "\n",
       "    .dataframe tbody tr th {\n",
       "        vertical-align: top;\n",
       "    }\n",
       "\n",
       "    .dataframe thead th {\n",
       "        text-align: right;\n",
       "    }\n",
       "</style>\n",
       "<table border=\"1\" class=\"dataframe\">\n",
       "  <thead>\n",
       "    <tr style=\"text-align: right;\">\n",
       "      <th></th>\n",
       "      <th>Geographic Area</th>\n",
       "      <th>state</th>\n",
       "      <th>Population (est.)</th>\n",
       "      <th>State Name</th>\n",
       "      <th>Registration Count</th>\n",
       "      <th>EVs per Capita</th>\n",
       "    </tr>\n",
       "  </thead>\n",
       "  <tbody>\n",
       "    <tr>\n",
       "      <th>0</th>\n",
       "      <td>Alabama</td>\n",
       "      <td>AL</td>\n",
       "      <td>5074296</td>\n",
       "      <td>Alabama</td>\n",
       "      <td>4750.0</td>\n",
       "      <td>0.000936</td>\n",
       "    </tr>\n",
       "    <tr>\n",
       "      <th>1</th>\n",
       "      <td>Alaska</td>\n",
       "      <td>AK</td>\n",
       "      <td>733583</td>\n",
       "      <td>Alaska</td>\n",
       "      <td>1290.0</td>\n",
       "      <td>0.001758</td>\n",
       "    </tr>\n",
       "    <tr>\n",
       "      <th>2</th>\n",
       "      <td>Arizona</td>\n",
       "      <td>AZ</td>\n",
       "      <td>7359197</td>\n",
       "      <td>Arizona</td>\n",
       "      <td>40740.0</td>\n",
       "      <td>0.005536</td>\n",
       "    </tr>\n",
       "    <tr>\n",
       "      <th>3</th>\n",
       "      <td>Arkansas</td>\n",
       "      <td>AR</td>\n",
       "      <td>3045637</td>\n",
       "      <td>Arkansas</td>\n",
       "      <td>2390.0</td>\n",
       "      <td>0.000785</td>\n",
       "    </tr>\n",
       "    <tr>\n",
       "      <th>4</th>\n",
       "      <td>California</td>\n",
       "      <td>CA</td>\n",
       "      <td>39029342</td>\n",
       "      <td>California</td>\n",
       "      <td>563070.0</td>\n",
       "      <td>0.014427</td>\n",
       "    </tr>\n",
       "  </tbody>\n",
       "</table>\n",
       "</div>"
      ],
      "text/plain": [
       "  Geographic Area state  Population (est.)  State Name  Registration Count  \\\n",
       "0         Alabama    AL            5074296     Alabama              4750.0   \n",
       "1          Alaska    AK             733583      Alaska              1290.0   \n",
       "2         Arizona    AZ            7359197     Arizona             40740.0   \n",
       "3        Arkansas    AR            3045637    Arkansas              2390.0   \n",
       "4      California    CA           39029342  California            563070.0   \n",
       "\n",
       "   EVs per Capita  \n",
       "0        0.000936  \n",
       "1        0.001758  \n",
       "2        0.005536  \n",
       "3        0.000785  \n",
       "4        0.014427  "
      ]
     },
     "execution_count": 35,
     "metadata": {},
     "output_type": "execute_result"
    }
   ],
   "source": [
    "population_registration_merge = pd.merge(population_data, registration_data, how = \"left\", on=[\"state\"])\n",
    "\n",
    "population_registration_merge.dropna(inplace=True)\n",
    "\n",
    "population_registration_merge[\"EVs per Capita\"] = population_registration_merge[\"Registration Count\"] / population_registration_merge[\"Population (est.)\"]\n",
    "\n",
    "\n",
    "population_registration_merge.head()"
   ]
  },
  {
   "cell_type": "code",
   "execution_count": 60,
   "metadata": {},
   "outputs": [
    {
     "data": {
      "image/png": "[encoded data removed]",
      "text/plain": [
       "<Figure size 432x288 with 2 Axes>"
      ]
     },
     "metadata": {
      "needs_background": "light"
     },
     "output_type": "display_data"
    },
    {
     "data": {
      "image/png": "[encoded data removed]",
      "text/plain": [
       "<Figure size 1440x288 with 1 Axes>"
      ]
     },
     "metadata": {
      "needs_background": "light"
     },
     "output_type": "display_data"
    }
   ],
   "source": []
  },
  {
   "cell_type": "code",
   "execution_count": null,
   "metadata": {},
   "outputs": [],
   "source": [
    "x_axis = np.arange(len(population_registration_merge))\n",
    "tick_locations = [value for value in x_axis]\n",
    "\n",
    "plt.figure(figsize=(20,4))\n",
    "plt.bar(x_axis, population_registration_merge[\"Registration Counts\"], color='b', alpha=0.5, align=\"center\")\n",
    "plt.bar(x_axis, population_registration_merge[\"Registration Counts\"], color='b', alpha=0.5, align=\"center\")\n",
    "plt.xticks(tick_locations, population_registration_merge[\"state\"], rotation=\"vertical\")\n",
    "\n",
    "plt.xlim(-0.75, len(x_axis))\n",
    "plt.ylim(0, max(population_registration_merge[\"EVs per Capita\"])+.001)\n",
    "\n",
    "plt.show()"
   ]
  },
  {
   "cell_type": "code",
   "execution_count": 32,
   "metadata": {},
   "outputs": [
    {
     "data": {
      "text/html": [
       "<div>\n",
       "<style scoped>\n",
       "    .dataframe tbody tr th:only-of-type {\n",
       "        vertical-align: middle;\n",
       "    }\n",
       "\n",
       "    .dataframe tbody tr th {\n",
       "        vertical-align: top;\n",
       "    }\n",
       "\n",
       "    .dataframe thead th {\n",
       "        text-align: right;\n",
       "    }\n",
       "</style>\n",
       "<table border=\"1\" class=\"dataframe\">\n",
       "  <thead>\n",
       "    <tr style=\"text-align: right;\">\n",
       "      <th></th>\n",
       "      <th>state</th>\n",
       "      <th>Number of State Incentives</th>\n",
       "      <th>Geographic Area</th>\n",
       "      <th>Population (est.)</th>\n",
       "      <th>State Name</th>\n",
       "      <th>Registration Count</th>\n",
       "      <th>EVs per Capita</th>\n",
       "    </tr>\n",
       "  </thead>\n",
       "  <tbody>\n",
       "    <tr>\n",
       "      <th>0</th>\n",
       "      <td>AK</td>\n",
       "      <td>1</td>\n",
       "      <td>Alaska</td>\n",
       "      <td>733583</td>\n",
       "      <td>Alaska</td>\n",
       "      <td>1290.0</td>\n",
       "      <td>0.001758</td>\n",
       "    </tr>\n",
       "    <tr>\n",
       "      <th>1</th>\n",
       "      <td>AL</td>\n",
       "      <td>3</td>\n",
       "      <td>Alabama</td>\n",
       "      <td>5074296</td>\n",
       "      <td>Alabama</td>\n",
       "      <td>4750.0</td>\n",
       "      <td>0.000936</td>\n",
       "    </tr>\n",
       "    <tr>\n",
       "      <th>2</th>\n",
       "      <td>AR</td>\n",
       "      <td>3</td>\n",
       "      <td>Arkansas</td>\n",
       "      <td>3045637</td>\n",
       "      <td>Arkansas</td>\n",
       "      <td>2390.0</td>\n",
       "      <td>0.000785</td>\n",
       "    </tr>\n",
       "    <tr>\n",
       "      <th>3</th>\n",
       "      <td>AZ</td>\n",
       "      <td>6</td>\n",
       "      <td>Arizona</td>\n",
       "      <td>7359197</td>\n",
       "      <td>Arizona</td>\n",
       "      <td>40740.0</td>\n",
       "      <td>0.005536</td>\n",
       "    </tr>\n",
       "    <tr>\n",
       "      <th>4</th>\n",
       "      <td>CA</td>\n",
       "      <td>41</td>\n",
       "      <td>California</td>\n",
       "      <td>39029342</td>\n",
       "      <td>California</td>\n",
       "      <td>563070.0</td>\n",
       "      <td>0.014427</td>\n",
       "    </tr>\n",
       "  </tbody>\n",
       "</table>\n",
       "</div>"
      ],
      "text/plain": [
       "  state  Number of State Incentives Geographic Area  Population (est.)  \\\n",
       "0    AK                           1          Alaska             733583   \n",
       "1    AL                           3         Alabama            5074296   \n",
       "2    AR                           3        Arkansas            3045637   \n",
       "3    AZ                           6         Arizona            7359197   \n",
       "4    CA                          41      California           39029342   \n",
       "\n",
       "   State Name  Registration Count  EVs per Capita  \n",
       "0      Alaska              1290.0        0.001758  \n",
       "1     Alabama              4750.0        0.000936  \n",
       "2    Arkansas              2390.0        0.000785  \n",
       "3     Arizona             40740.0        0.005536  \n",
       "4  California            563070.0        0.014427  "
      ]
     },
     "execution_count": 32,
     "metadata": {},
     "output_type": "execute_result"
    }
   ],
   "source": [
    "incentives_per_capita = pd.merge(states_sorted, population_registration_merge, how = \"left\", on=[\"state\"])\n",
    "\n",
    "incentives_per_capita.rename(columns = {\"id\":\"Number of State Incentives\"},inplace=True)\n",
    "\n",
    "incentives_per_capita.head()"
   ]
  },
  {
   "cell_type": "code",
   "execution_count": 59,
   "metadata": {},
   "outputs": [
    {
     "data": {
      "image/png": "[encoded data removed]",
      "text/plain": [
       "<Figure size 432x288 with 1 Axes>"
      ]
     },
     "metadata": {
      "needs_background": "light"
     },
     "output_type": "display_data"
    }
   ],
   "source": [
    "x_values = incentives_per_capita['EVs per Capita']\n",
    "y_values = incentives_per_capita['Number of State Incentives']\n",
    "(slope, intercept, rvalue, pvalue, stderr) = linregress(x_values, y_values)\n",
    "regress_values = x_values * slope + intercept\n",
    "line_eq = \"y = \" + str(round(slope,2)) + \"x + \" + str(round(intercept,2))\n",
    "plt.scatter(x_values,y_values)\n",
    "plt.plot(x_values,regress_values,\"r-\")\n",
    "plt.xlabel('Registered Electric Vehicles per Capita')\n",
    "plt.ylabel('Number of State Incentives')\n",
    "plt.show()"
   ]
  },
  {
   "cell_type": "code",
   "execution_count": 58,
   "metadata": {},
   "outputs": [
    {
     "data": {
      "image/png": "[encoded data removed]",
      "text/plain": [
       "<Figure size 432x288 with 1 Axes>"
      ]
     },
     "metadata": {
      "needs_background": "light"
     },
     "output_type": "display_data"
    }
   ],
   "source": [
    "x_values = incentives_per_capita['Registration Count']\n",
    "y_values = incentives_per_capita['Number of State Incentives']\n",
    "(slope, intercept, rvalue, pvalue, stderr) = linregress(x_values, y_values)\n",
    "regress_values = x_values * slope + intercept\n",
    "line_eq = \"y = \" + str(round(slope,2)) + \"x + \" + str(round(intercept,2))\n",
    "plt.scatter(x_values,y_values)\n",
    "plt.plot(x_values,regress_values,\"r-\")\n",
    "plt.xlabel('Number of Registered Electric Vehicles')\n",
    "plt.ylabel('Number of State Incentives')\n",
    "plt.show()"
   ]
  },
  {
   "cell_type": "code",
   "execution_count": 65,
   "metadata": {},
   "outputs": [
    {
     "data": {
      "image/png": "[encoded data removed]",
      "text/plain": [
       "<Figure size 1440x288 with 2 Axes>"
      ]
     },
     "metadata": {
      "needs_background": "light"
     },
     "output_type": "display_data"
    }
   ],
   "source": [
    "fig, ax = plt.subplots(nrows=2, ncols=1, figsize=(20,4))\n",
    "\n",
    "x_axis = np.arange(len(incentives_per_capita))\n",
    "tick_locations = [value for value in x_axis]\n",
    "\n",
    "ax[0].bar(x_axis, incentives_per_capita[\"EVs per Capita\"], color='b', alpha=0.5, align=\"center\", )\n",
    "ax[1].bar(x_axis, incentives_per_capita[\"Number of State Incentives\"], color='b', alpha=0.5, align=\"center\")\n",
    "plt.xticks(tick_locations, population_registration_merge[\"state\"], rotation=\"vertical\")\n",
    "\n",
    "plt.tight_layout()\n",
    "# ax[0].xlim(-0.75, len(x_axis))\n",
    "# ax[1].xlim(-0.75, len(x_axis))\n",
    "#plt.ylim(0, max(population_registration_merge[\"EVs per Capita\"])+.001)\n",
    "\n",
    "plt.show()"
   ]
  }
 ],
 "metadata": {
  "kernelspec": {
   "display_name": "PythonData",
   "language": "python",
   "name": "python3"
  },
  "language_info": {
   "codemirror_mode": {
    "name": "ipython",
    "version": 3
   },
   "file_extension": ".py",
   "mimetype": "text/x-python",
   "name": "python",
   "nbconvert_exporter": "python",
   "pygments_lexer": "ipython3",
   "version": "3.7.7"
  },
  "orig_nbformat": 4,
  "vscode": {
   "interpreter": {
    "hash": "ed624e979f463f68b2cf9d74dc6f7fce37aed34951cee674ee352dc9bf18b1be"
   }
  }
 },
 "nbformat": 4,
 "nbformat_minor": 2
}
